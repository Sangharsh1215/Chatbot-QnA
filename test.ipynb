{
 "cells": [
  {
   "cell_type": "code",
   "execution_count": 2,
   "metadata": {},
   "outputs": [],
   "source": [
    "import pickle\n",
    "import numpy as np"
   ]
  },
  {
   "cell_type": "code",
   "execution_count": 3,
   "metadata": {},
   "outputs": [],
   "source": [
    "with open(\"train_qa.txt\", \"rb\") as fp:   \n",
    "    train_data =  pickle.load(fp)"
   ]
  },
  {
   "cell_type": "code",
   "execution_count": 4,
   "metadata": {},
   "outputs": [],
   "source": [
    "with open(\"test_qa.txt\", \"rb\") as fp:  \n",
    "    test_data =  pickle.load(fp)"
   ]
  },
  {
   "cell_type": "code",
   "execution_count": 5,
   "metadata": {},
   "outputs": [],
   "source": [
    "vocab = set()"
   ]
  },
  {
   "cell_type": "code",
   "execution_count": 6,
   "metadata": {},
   "outputs": [],
   "source": [
    "all_data = test_data + train_data"
   ]
  },
  {
   "cell_type": "code",
   "execution_count": 7,
   "metadata": {},
   "outputs": [],
   "source": [
    "for story, question , answer in all_data:\n",
    "    vocab = vocab.union(set(story))\n",
    "    vocab = vocab.union(set(question))"
   ]
  },
  {
   "cell_type": "code",
   "execution_count": 8,
   "metadata": {},
   "outputs": [],
   "source": [
    "vocab.add('no')\n",
    "vocab.add('yes')"
   ]
  },
  {
   "cell_type": "code",
   "execution_count": 9,
   "metadata": {},
   "outputs": [
    {
     "data": {
      "text/plain": [
       "{'.',\n",
       " '?',\n",
       " 'Daniel',\n",
       " 'Is',\n",
       " 'John',\n",
       " 'Mary',\n",
       " 'Sandra',\n",
       " 'apple',\n",
       " 'back',\n",
       " 'bathroom',\n",
       " 'bedroom',\n",
       " 'discarded',\n",
       " 'down',\n",
       " 'dropped',\n",
       " 'football',\n",
       " 'garden',\n",
       " 'got',\n",
       " 'grabbed',\n",
       " 'hallway',\n",
       " 'in',\n",
       " 'journeyed',\n",
       " 'kitchen',\n",
       " 'left',\n",
       " 'milk',\n",
       " 'moved',\n",
       " 'no',\n",
       " 'office',\n",
       " 'picked',\n",
       " 'put',\n",
       " 'the',\n",
       " 'there',\n",
       " 'to',\n",
       " 'took',\n",
       " 'travelled',\n",
       " 'up',\n",
       " 'went',\n",
       " 'yes'}"
      ]
     },
     "execution_count": 9,
     "metadata": {},
     "output_type": "execute_result"
    }
   ],
   "source": [
    "vocab"
   ]
  },
  {
   "cell_type": "code",
   "execution_count": 10,
   "metadata": {},
   "outputs": [],
   "source": [
    "vocab_len = len(vocab) + 1 "
   ]
  },
  {
   "cell_type": "code",
   "execution_count": 11,
   "metadata": {},
   "outputs": [],
   "source": [
    "max_story_len = max([len(data[0]) for data in all_data])"
   ]
  },
  {
   "cell_type": "code",
   "execution_count": 12,
   "metadata": {},
   "outputs": [
    {
     "data": {
      "text/plain": [
       "156"
      ]
     },
     "execution_count": 12,
     "metadata": {},
     "output_type": "execute_result"
    }
   ],
   "source": [
    "max_story_len"
   ]
  },
  {
   "cell_type": "code",
   "execution_count": 13,
   "metadata": {},
   "outputs": [],
   "source": [
    "max_question_len = max([len(data[1]) for data in all_data])"
   ]
  },
  {
   "cell_type": "code",
   "execution_count": 14,
   "metadata": {},
   "outputs": [],
   "source": [
    "vocab_size = len(vocab) + 1"
   ]
  },
  {
   "cell_type": "code",
   "execution_count": 15,
   "metadata": {},
   "outputs": [],
   "source": [
    "from keras.preprocessing.sequence import pad_sequences\n",
    "from keras.preprocessing.text import Tokenizer"
   ]
  },
  {
   "cell_type": "code",
   "execution_count": 16,
   "metadata": {},
   "outputs": [],
   "source": [
    "tokenizer = Tokenizer(filters=[])\n",
    "tokenizer.fit_on_texts(vocab)"
   ]
  },
  {
   "cell_type": "code",
   "execution_count": 17,
   "metadata": {},
   "outputs": [
    {
     "data": {
      "text/plain": [
       "{'yes': 1,\n",
       " '.': 2,\n",
       " '?': 3,\n",
       " 'moved': 4,\n",
       " 'bedroom': 5,\n",
       " 'took': 6,\n",
       " 'left': 7,\n",
       " 'put': 8,\n",
       " 'kitchen': 9,\n",
       " 'journeyed': 10,\n",
       " 'is': 11,\n",
       " 'dropped': 12,\n",
       " 'football': 13,\n",
       " 'grabbed': 14,\n",
       " 'up': 15,\n",
       " 'no': 16,\n",
       " 'hallway': 17,\n",
       " 'sandra': 18,\n",
       " 'apple': 19,\n",
       " 'john': 20,\n",
       " 'picked': 21,\n",
       " 'there': 22,\n",
       " 'got': 23,\n",
       " 'back': 24,\n",
       " 'garden': 25,\n",
       " 'daniel': 26,\n",
       " 'discarded': 27,\n",
       " 'down': 28,\n",
       " 'went': 29,\n",
       " 'bathroom': 30,\n",
       " 'office': 31,\n",
       " 'in': 32,\n",
       " 'travelled': 33,\n",
       " 'milk': 34,\n",
       " 'mary': 35,\n",
       " 'the': 36,\n",
       " 'to': 37}"
      ]
     },
     "execution_count": 17,
     "metadata": {},
     "output_type": "execute_result"
    }
   ],
   "source": [
    "tokenizer.word_index"
   ]
  },
  {
   "cell_type": "code",
   "execution_count": 18,
   "metadata": {},
   "outputs": [],
   "source": [
    "train_story_text = []\n",
    "train_question_text = []\n",
    "train_answers = []\n",
    "\n",
    "for story,question,answer in train_data:\n",
    "    train_story_text.append(story)\n",
    "    train_question_text.append(question)"
   ]
  },
  {
   "cell_type": "code",
   "execution_count": 19,
   "metadata": {},
   "outputs": [],
   "source": [
    "train_story_seq = tokenizer.texts_to_sequences(train_story_text)\n"
   ]
  },
  {
   "cell_type": "code",
   "execution_count": 20,
   "metadata": {},
   "outputs": [
    {
     "data": {
      "text/plain": [
       "10000"
      ]
     },
     "execution_count": 20,
     "metadata": {},
     "output_type": "execute_result"
    }
   ],
   "source": [
    "len(train_story_seq)"
   ]
  },
  {
   "cell_type": "code",
   "execution_count": 21,
   "metadata": {},
   "outputs": [],
   "source": [
    "def vectorize_stories(data, word_index=tokenizer.word_index, max_story_len=max_story_len,max_question_len=max_question_len):\n",
    "    X = []\n",
    "    Xq = []\n",
    "    Y = []\n",
    "    for story, query, answer in data:\n",
    "        x = [word_index[word.lower()] for word in story]\n",
    "        xq = [word_index[word.lower()] for word in query]\n",
    "        y = np.zeros(len(word_index) + 1)\n",
    "        y[word_index[answer]] = 1\n",
    "        \n",
    "       \n",
    "        X.append(x)\n",
    "        Xq.append(xq)\n",
    "        Y.append(y)\n",
    "  \n",
    "    return (pad_sequences(X, maxlen=max_story_len),pad_sequences(Xq, maxlen=max_question_len), np.array(Y))"
   ]
  },
  {
   "cell_type": "code",
   "execution_count": 22,
   "metadata": {},
   "outputs": [],
   "source": [
    "inputs_train, queries_train, answers_train = vectorize_stories(train_data)"
   ]
  },
  {
   "cell_type": "code",
   "execution_count": 23,
   "metadata": {},
   "outputs": [],
   "source": [
    "inputs_test, queries_test, answers_test = vectorize_stories(test_data)"
   ]
  },
  {
   "cell_type": "code",
   "execution_count": 24,
   "metadata": {},
   "outputs": [
    {
     "data": {
      "text/plain": [
       "array([[ 0,  0,  0, ..., 36,  5,  2],\n",
       "       [ 0,  0,  0, ..., 36, 25,  2],\n",
       "       [ 0,  0,  0, ..., 36, 25,  2],\n",
       "       ...,\n",
       "       [ 0,  0,  0, ..., 36, 19,  2],\n",
       "       [ 0,  0,  0, ..., 36, 25,  2],\n",
       "       [ 0,  0,  0, ..., 19, 22,  2]])"
      ]
     },
     "execution_count": 24,
     "metadata": {},
     "output_type": "execute_result"
    }
   ],
   "source": [
    "inputs_test"
   ]
  },
  {
   "cell_type": "code",
   "execution_count": 25,
   "metadata": {},
   "outputs": [
    {
     "data": {
      "text/plain": [
       "array([[11, 20, 32, 36,  9,  3],\n",
       "       [11, 20, 32, 36,  9,  3],\n",
       "       [11, 20, 32, 36, 25,  3],\n",
       "       ...,\n",
       "       [11, 35, 32, 36,  5,  3],\n",
       "       [11, 18, 32, 36, 25,  3],\n",
       "       [11, 35, 32, 36, 25,  3]])"
      ]
     },
     "execution_count": 25,
     "metadata": {},
     "output_type": "execute_result"
    }
   ],
   "source": [
    "queries_test"
   ]
  },
  {
   "cell_type": "code",
   "execution_count": 26,
   "metadata": {},
   "outputs": [
    {
     "data": {
      "text/plain": [
       "array([  0., 497.,   0.,   0.,   0.,   0.,   0.,   0.,   0.,   0.,   0.,\n",
       "         0.,   0.,   0.,   0.,   0., 503.,   0.,   0.,   0.,   0.,   0.,\n",
       "         0.,   0.,   0.,   0.,   0.,   0.,   0.,   0.,   0.,   0.,   0.,\n",
       "         0.,   0.,   0.,   0.,   0.])"
      ]
     },
     "execution_count": 26,
     "metadata": {},
     "output_type": "execute_result"
    }
   ],
   "source": [
    "sum(answers_test)"
   ]
  },
  {
   "cell_type": "code",
   "execution_count": 27,
   "metadata": {},
   "outputs": [
    {
     "data": {
      "text/plain": [
       "1"
      ]
     },
     "execution_count": 27,
     "metadata": {},
     "output_type": "execute_result"
    }
   ],
   "source": [
    "tokenizer.word_index['yes']"
   ]
  },
  {
   "cell_type": "code",
   "execution_count": 28,
   "metadata": {},
   "outputs": [
    {
     "data": {
      "text/plain": [
       "16"
      ]
     },
     "execution_count": 28,
     "metadata": {},
     "output_type": "execute_result"
    }
   ],
   "source": [
    "tokenizer.word_index['no']"
   ]
  },
  {
   "cell_type": "code",
   "execution_count": 29,
   "metadata": {},
   "outputs": [],
   "source": [
    "from keras.models import Sequential, Model\n",
    "from keras.layers import Embedding\n",
    "from keras.layers import Input, Activation, Dense, Permute, Dropout\n",
    "from keras.layers import add, dot, concatenate\n",
    "from keras.layers import LSTM"
   ]
  },
  {
   "cell_type": "code",
   "execution_count": 30,
   "metadata": {},
   "outputs": [],
   "source": [
    "input_sequence = Input((max_story_len,))\n",
    "question = Input((max_question_len,))"
   ]
  },
  {
   "cell_type": "code",
   "execution_count": 31,
   "metadata": {},
   "outputs": [],
   "source": [
    "input_encoder_m = Sequential()\n",
    "input_encoder_m.add(Embedding(input_dim=vocab_size,output_dim=64))\n",
    "input_encoder_m.add(Dropout(0.3))"
   ]
  },
  {
   "cell_type": "code",
   "execution_count": 32,
   "metadata": {},
   "outputs": [],
   "source": [
    "input_encoder_c = Sequential()\n",
    "input_encoder_c.add(Embedding(input_dim=vocab_size,output_dim=max_question_len))\n",
    "input_encoder_c.add(Dropout(0.3))"
   ]
  },
  {
   "cell_type": "code",
   "execution_count": 33,
   "metadata": {},
   "outputs": [],
   "source": [
    "question_encoder = Sequential()\n",
    "question_encoder.add(Embedding(input_dim=vocab_size,\n",
    "                               output_dim=64,\n",
    "                               input_length=max_question_len))\n",
    "question_encoder.add(Dropout(0.3))"
   ]
  },
  {
   "cell_type": "code",
   "execution_count": 34,
   "metadata": {},
   "outputs": [],
   "source": [
    "input_encoded_m = input_encoder_m(input_sequence)\n",
    "input_encoded_c = input_encoder_c(input_sequence)\n",
    "question_encoded = question_encoder(question)"
   ]
  },
  {
   "cell_type": "code",
   "execution_count": 35,
   "metadata": {},
   "outputs": [],
   "source": [
    "match = dot([input_encoded_m, question_encoded], axes=(2, 2))\n",
    "match = Activation('softmax')(match)"
   ]
  },
  {
   "cell_type": "code",
   "execution_count": 36,
   "metadata": {},
   "outputs": [],
   "source": [
    "response = add([match, input_encoded_c])  # (samples, story_maxlen, query_maxlen)\n",
    "response = Permute((2, 1))(response)  "
   ]
  },
  {
   "cell_type": "code",
   "execution_count": 37,
   "metadata": {},
   "outputs": [],
   "source": [
    "answer = concatenate([response, question_encoded])"
   ]
  },
  {
   "cell_type": "code",
   "execution_count": 38,
   "metadata": {},
   "outputs": [
    {
     "data": {
      "text/plain": [
       "<KerasTensor: shape=(None, 6, 220) dtype=float32 (created by layer 'concatenate')>"
      ]
     },
     "execution_count": 38,
     "metadata": {},
     "output_type": "execute_result"
    }
   ],
   "source": [
    "answer"
   ]
  },
  {
   "cell_type": "code",
   "execution_count": 39,
   "metadata": {},
   "outputs": [],
   "source": [
    "answer = LSTM(32)(answer)"
   ]
  },
  {
   "cell_type": "code",
   "execution_count": 40,
   "metadata": {},
   "outputs": [],
   "source": [
    "answer = Dropout(0.5)(answer)\n",
    "answer = Dense(vocab_size)(answer)"
   ]
  },
  {
   "cell_type": "code",
   "execution_count": 41,
   "metadata": {},
   "outputs": [],
   "source": [
    "answer = Activation('softmax')(answer)\n",
    "\n",
    "model = Model([input_sequence, question], answer)\n",
    "model.compile(optimizer='rmsprop', loss='categorical_crossentropy',\n",
    "              metrics=['accuracy'])"
   ]
  },
  {
   "cell_type": "code",
   "execution_count": 42,
   "metadata": {},
   "outputs": [
    {
     "name": "stdout",
     "output_type": "stream",
     "text": [
      "Model: \"model\"\n",
      "__________________________________________________________________________________________________\n",
      " Layer (type)                Output Shape                 Param #   Connected to                  \n",
      "==================================================================================================\n",
      " input_1 (InputLayer)        [(None, 156)]                0         []                            \n",
      "                                                                                                  \n",
      " input_2 (InputLayer)        [(None, 6)]                  0         []                            \n",
      "                                                                                                  \n",
      " sequential (Sequential)     (None, None, 64)             2432      ['input_1[0][0]']             \n",
      "                                                                                                  \n",
      " sequential_2 (Sequential)   (None, 6, 64)                2432      ['input_2[0][0]']             \n",
      "                                                                                                  \n",
      " dot (Dot)                   (None, 156, 6)               0         ['sequential[0][0]',          \n",
      "                                                                     'sequential_2[0][0]']        \n",
      "                                                                                                  \n",
      " activation (Activation)     (None, 156, 6)               0         ['dot[0][0]']                 \n",
      "                                                                                                  \n",
      " sequential_1 (Sequential)   (None, None, 6)              228       ['input_1[0][0]']             \n",
      "                                                                                                  \n",
      " add (Add)                   (None, 156, 6)               0         ['activation[0][0]',          \n",
      "                                                                     'sequential_1[0][0]']        \n",
      "                                                                                                  \n",
      " permute (Permute)           (None, 6, 156)               0         ['add[0][0]']                 \n",
      "                                                                                                  \n",
      " concatenate (Concatenate)   (None, 6, 220)               0         ['permute[0][0]',             \n",
      "                                                                     'sequential_2[0][0]']        \n",
      "                                                                                                  \n",
      " lstm (LSTM)                 (None, 32)                   32384     ['concatenate[0][0]']         \n",
      "                                                                                                  \n",
      " dropout_3 (Dropout)         (None, 32)                   0         ['lstm[0][0]']                \n",
      "                                                                                                  \n",
      " dense (Dense)               (None, 38)                   1254      ['dropout_3[0][0]']           \n",
      "                                                                                                  \n",
      " activation_1 (Activation)   (None, 38)                   0         ['dense[0][0]']               \n",
      "                                                                                                  \n",
      "==================================================================================================\n",
      "Total params: 38730 (151.29 KB)\n",
      "Trainable params: 38730 (151.29 KB)\n",
      "Non-trainable params: 0 (0.00 Byte)\n",
      "__________________________________________________________________________________________________\n"
     ]
    }
   ],
   "source": [
    "model.summary()"
   ]
  },
  {
   "cell_type": "code",
   "execution_count": 43,
   "metadata": {},
   "outputs": [
    {
     "name": "stdout",
     "output_type": "stream",
     "text": [
      "Epoch 1/100\n",
      "313/313 [==============================] - 5s 9ms/step - loss: 0.9171 - accuracy: 0.4902 - val_loss: 0.6948 - val_accuracy: 0.5030\n",
      "Epoch 2/100\n",
      "313/313 [==============================] - 2s 7ms/step - loss: 0.7063 - accuracy: 0.4972 - val_loss: 0.6936 - val_accuracy: 0.4970\n",
      "Epoch 3/100\n",
      "313/313 [==============================] - 2s 7ms/step - loss: 0.6979 - accuracy: 0.5001 - val_loss: 0.6939 - val_accuracy: 0.4970\n",
      "Epoch 4/100\n",
      "313/313 [==============================] - 2s 7ms/step - loss: 0.6968 - accuracy: 0.4992 - val_loss: 0.6932 - val_accuracy: 0.5030\n",
      "Epoch 5/100\n",
      "313/313 [==============================] - 2s 7ms/step - loss: 0.6956 - accuracy: 0.5001 - val_loss: 0.6959 - val_accuracy: 0.4970\n",
      "Epoch 6/100\n",
      "313/313 [==============================] - 2s 7ms/step - loss: 0.6947 - accuracy: 0.5106 - val_loss: 0.6949 - val_accuracy: 0.4970\n",
      "Epoch 7/100\n",
      "313/313 [==============================] - 2s 7ms/step - loss: 0.6962 - accuracy: 0.4914 - val_loss: 0.6935 - val_accuracy: 0.5030\n",
      "Epoch 8/100\n",
      "313/313 [==============================] - 2s 7ms/step - loss: 0.6955 - accuracy: 0.4907 - val_loss: 0.6935 - val_accuracy: 0.5030\n",
      "Epoch 9/100\n",
      "313/313 [==============================] - 2s 7ms/step - loss: 0.6953 - accuracy: 0.5027 - val_loss: 0.6945 - val_accuracy: 0.4970\n",
      "Epoch 10/100\n",
      "313/313 [==============================] - 2s 7ms/step - loss: 0.6949 - accuracy: 0.4970 - val_loss: 0.6932 - val_accuracy: 0.5030\n",
      "Epoch 11/100\n",
      "313/313 [==============================] - 2s 7ms/step - loss: 0.6947 - accuracy: 0.5068 - val_loss: 0.6955 - val_accuracy: 0.4970\n",
      "Epoch 12/100\n",
      "313/313 [==============================] - 2s 7ms/step - loss: 0.6952 - accuracy: 0.5011 - val_loss: 0.6985 - val_accuracy: 0.5030\n",
      "Epoch 13/100\n",
      "313/313 [==============================] - 2s 7ms/step - loss: 0.6951 - accuracy: 0.5031 - val_loss: 0.6935 - val_accuracy: 0.4970\n",
      "Epoch 14/100\n",
      "313/313 [==============================] - 2s 7ms/step - loss: 0.6947 - accuracy: 0.5062 - val_loss: 0.6931 - val_accuracy: 0.5030\n",
      "Epoch 15/100\n",
      "313/313 [==============================] - 2s 7ms/step - loss: 0.6951 - accuracy: 0.4986 - val_loss: 0.6932 - val_accuracy: 0.5030\n",
      "Epoch 16/100\n",
      "313/313 [==============================] - 2s 7ms/step - loss: 0.6955 - accuracy: 0.4894 - val_loss: 0.6939 - val_accuracy: 0.4970\n",
      "Epoch 17/100\n",
      "313/313 [==============================] - 2s 7ms/step - loss: 0.6945 - accuracy: 0.5080 - val_loss: 0.6932 - val_accuracy: 0.5030\n",
      "Epoch 18/100\n",
      "313/313 [==============================] - 2s 7ms/step - loss: 0.6950 - accuracy: 0.4991 - val_loss: 0.6936 - val_accuracy: 0.4970\n",
      "Epoch 19/100\n",
      "313/313 [==============================] - 2s 7ms/step - loss: 0.6952 - accuracy: 0.4965 - val_loss: 0.6935 - val_accuracy: 0.4970\n",
      "Epoch 20/100\n",
      "313/313 [==============================] - 2s 7ms/step - loss: 0.6950 - accuracy: 0.4961 - val_loss: 0.6934 - val_accuracy: 0.4970\n",
      "Epoch 21/100\n",
      "313/313 [==============================] - 2s 7ms/step - loss: 0.6949 - accuracy: 0.4953 - val_loss: 0.6990 - val_accuracy: 0.4970\n",
      "Epoch 22/100\n",
      "313/313 [==============================] - 2s 7ms/step - loss: 0.6942 - accuracy: 0.5124 - val_loss: 0.6933 - val_accuracy: 0.4970\n",
      "Epoch 23/100\n",
      "313/313 [==============================] - 2s 7ms/step - loss: 0.6951 - accuracy: 0.5036 - val_loss: 0.6933 - val_accuracy: 0.5030\n",
      "Epoch 24/100\n",
      "313/313 [==============================] - 2s 7ms/step - loss: 0.6948 - accuracy: 0.4968 - val_loss: 0.6931 - val_accuracy: 0.5030\n",
      "Epoch 25/100\n",
      "313/313 [==============================] - 2s 7ms/step - loss: 0.6948 - accuracy: 0.5028 - val_loss: 0.6959 - val_accuracy: 0.5030\n",
      "Epoch 26/100\n",
      "313/313 [==============================] - 2s 8ms/step - loss: 0.6947 - accuracy: 0.5000 - val_loss: 0.6931 - val_accuracy: 0.5030\n",
      "Epoch 27/100\n",
      "313/313 [==============================] - 2s 7ms/step - loss: 0.6947 - accuracy: 0.4952 - val_loss: 0.6938 - val_accuracy: 0.4970\n",
      "Epoch 28/100\n",
      "313/313 [==============================] - 2s 7ms/step - loss: 0.6946 - accuracy: 0.5061 - val_loss: 0.6966 - val_accuracy: 0.5030\n",
      "Epoch 29/100\n",
      "313/313 [==============================] - 2s 7ms/step - loss: 0.6951 - accuracy: 0.4968 - val_loss: 0.6957 - val_accuracy: 0.5030\n",
      "Epoch 30/100\n",
      "313/313 [==============================] - 2s 7ms/step - loss: 0.6949 - accuracy: 0.5017 - val_loss: 0.6936 - val_accuracy: 0.5030\n",
      "Epoch 31/100\n",
      "313/313 [==============================] - 2s 7ms/step - loss: 0.6953 - accuracy: 0.4927 - val_loss: 0.6936 - val_accuracy: 0.5030\n",
      "Epoch 32/100\n",
      "313/313 [==============================] - 2s 7ms/step - loss: 0.6943 - accuracy: 0.5098 - val_loss: 0.6933 - val_accuracy: 0.5030\n",
      "Epoch 33/100\n",
      "313/313 [==============================] - 2s 7ms/step - loss: 0.6954 - accuracy: 0.4972 - val_loss: 0.6944 - val_accuracy: 0.4970\n",
      "Epoch 34/100\n",
      "313/313 [==============================] - 2s 7ms/step - loss: 0.6950 - accuracy: 0.5055 - val_loss: 0.6961 - val_accuracy: 0.4970\n",
      "Epoch 35/100\n",
      "313/313 [==============================] - 2s 7ms/step - loss: 0.6948 - accuracy: 0.5026 - val_loss: 0.6933 - val_accuracy: 0.4970\n",
      "Epoch 36/100\n",
      "313/313 [==============================] - 2s 7ms/step - loss: 0.6947 - accuracy: 0.5017 - val_loss: 0.6944 - val_accuracy: 0.5030\n",
      "Epoch 37/100\n",
      "313/313 [==============================] - 2s 7ms/step - loss: 0.6954 - accuracy: 0.4939 - val_loss: 0.6933 - val_accuracy: 0.4930\n",
      "Epoch 38/100\n",
      "313/313 [==============================] - 2s 7ms/step - loss: 0.6947 - accuracy: 0.5061 - val_loss: 0.6940 - val_accuracy: 0.4970\n",
      "Epoch 39/100\n",
      "313/313 [==============================] - 2s 7ms/step - loss: 0.6943 - accuracy: 0.5043 - val_loss: 0.6937 - val_accuracy: 0.4970\n",
      "Epoch 40/100\n",
      "313/313 [==============================] - 2s 7ms/step - loss: 0.6943 - accuracy: 0.5080 - val_loss: 0.6933 - val_accuracy: 0.4780\n",
      "Epoch 41/100\n",
      "313/313 [==============================] - 2s 7ms/step - loss: 0.6947 - accuracy: 0.5023 - val_loss: 0.6935 - val_accuracy: 0.5030\n",
      "Epoch 42/100\n",
      "313/313 [==============================] - 2s 7ms/step - loss: 0.6942 - accuracy: 0.5100 - val_loss: 0.6957 - val_accuracy: 0.5030\n",
      "Epoch 43/100\n",
      "313/313 [==============================] - 2s 7ms/step - loss: 0.6943 - accuracy: 0.5040 - val_loss: 0.6951 - val_accuracy: 0.5120\n",
      "Epoch 44/100\n",
      "313/313 [==============================] - 2s 7ms/step - loss: 0.6926 - accuracy: 0.5185 - val_loss: 0.6947 - val_accuracy: 0.4980\n",
      "Epoch 45/100\n",
      "313/313 [==============================] - 2s 7ms/step - loss: 0.6924 - accuracy: 0.5226 - val_loss: 0.6940 - val_accuracy: 0.4870\n",
      "Epoch 46/100\n",
      "313/313 [==============================] - 2s 7ms/step - loss: 0.6882 - accuracy: 0.5408 - val_loss: 0.6925 - val_accuracy: 0.5110\n",
      "Epoch 47/100\n",
      "313/313 [==============================] - 2s 7ms/step - loss: 0.6776 - accuracy: 0.5656 - val_loss: 0.6726 - val_accuracy: 0.6050\n",
      "Epoch 48/100\n",
      "313/313 [==============================] - 2s 7ms/step - loss: 0.6599 - accuracy: 0.6021 - val_loss: 0.6502 - val_accuracy: 0.6160\n",
      "Epoch 49/100\n",
      "313/313 [==============================] - 2s 7ms/step - loss: 0.6483 - accuracy: 0.6217 - val_loss: 0.6403 - val_accuracy: 0.6420\n",
      "Epoch 50/100\n",
      "313/313 [==============================] - 2s 7ms/step - loss: 0.6399 - accuracy: 0.6330 - val_loss: 0.6320 - val_accuracy: 0.6400\n",
      "Epoch 51/100\n",
      "313/313 [==============================] - 2s 7ms/step - loss: 0.6315 - accuracy: 0.6420 - val_loss: 0.6231 - val_accuracy: 0.6570\n",
      "Epoch 52/100\n",
      "313/313 [==============================] - 2s 7ms/step - loss: 0.6219 - accuracy: 0.6584 - val_loss: 0.6130 - val_accuracy: 0.6670\n",
      "Epoch 53/100\n",
      "313/313 [==============================] - 2s 7ms/step - loss: 0.6157 - accuracy: 0.6664 - val_loss: 0.6088 - val_accuracy: 0.6780\n",
      "Epoch 54/100\n",
      "313/313 [==============================] - 2s 7ms/step - loss: 0.6037 - accuracy: 0.6743 - val_loss: 0.5977 - val_accuracy: 0.6830\n",
      "Epoch 55/100\n",
      "313/313 [==============================] - 2s 7ms/step - loss: 0.5938 - accuracy: 0.6820 - val_loss: 0.5760 - val_accuracy: 0.6970\n",
      "Epoch 56/100\n",
      "313/313 [==============================] - 2s 7ms/step - loss: 0.5886 - accuracy: 0.6915 - val_loss: 0.5598 - val_accuracy: 0.7040\n",
      "Epoch 57/100\n",
      "313/313 [==============================] - 2s 7ms/step - loss: 0.5651 - accuracy: 0.7122 - val_loss: 0.5460 - val_accuracy: 0.7040\n",
      "Epoch 58/100\n",
      "313/313 [==============================] - 2s 7ms/step - loss: 0.5400 - accuracy: 0.7314 - val_loss: 0.5089 - val_accuracy: 0.7490\n",
      "Epoch 59/100\n",
      "313/313 [==============================] - 2s 7ms/step - loss: 0.5243 - accuracy: 0.7513 - val_loss: 0.4867 - val_accuracy: 0.7580\n",
      "Epoch 60/100\n",
      "313/313 [==============================] - 2s 7ms/step - loss: 0.5047 - accuracy: 0.7629 - val_loss: 0.4673 - val_accuracy: 0.7870\n",
      "Epoch 61/100\n",
      "313/313 [==============================] - 2s 7ms/step - loss: 0.4941 - accuracy: 0.7703 - val_loss: 0.4580 - val_accuracy: 0.7840\n",
      "Epoch 62/100\n",
      "313/313 [==============================] - 2s 7ms/step - loss: 0.4777 - accuracy: 0.7836 - val_loss: 0.4607 - val_accuracy: 0.7700\n",
      "Epoch 63/100\n",
      "313/313 [==============================] - 2s 7ms/step - loss: 0.4738 - accuracy: 0.7871 - val_loss: 0.4526 - val_accuracy: 0.7870\n",
      "Epoch 64/100\n",
      "313/313 [==============================] - 2s 7ms/step - loss: 0.4640 - accuracy: 0.7916 - val_loss: 0.4445 - val_accuracy: 0.7980\n",
      "Epoch 65/100\n",
      "313/313 [==============================] - 2s 7ms/step - loss: 0.4580 - accuracy: 0.7983 - val_loss: 0.4365 - val_accuracy: 0.8160\n",
      "Epoch 66/100\n",
      "313/313 [==============================] - 2s 8ms/step - loss: 0.4381 - accuracy: 0.8061 - val_loss: 0.4205 - val_accuracy: 0.8140\n",
      "Epoch 67/100\n",
      "313/313 [==============================] - 2s 7ms/step - loss: 0.4251 - accuracy: 0.8164 - val_loss: 0.4261 - val_accuracy: 0.8220\n",
      "Epoch 68/100\n",
      "313/313 [==============================] - 2s 7ms/step - loss: 0.4266 - accuracy: 0.8193 - val_loss: 0.4144 - val_accuracy: 0.7930\n",
      "Epoch 69/100\n",
      "313/313 [==============================] - 2s 7ms/step - loss: 0.4132 - accuracy: 0.8252 - val_loss: 0.4330 - val_accuracy: 0.7980\n",
      "Epoch 70/100\n",
      "313/313 [==============================] - 2s 7ms/step - loss: 0.3973 - accuracy: 0.8289 - val_loss: 0.3961 - val_accuracy: 0.8220\n",
      "Epoch 71/100\n",
      "313/313 [==============================] - 2s 7ms/step - loss: 0.3912 - accuracy: 0.8349 - val_loss: 0.4036 - val_accuracy: 0.8150\n",
      "Epoch 72/100\n",
      "313/313 [==============================] - 2s 7ms/step - loss: 0.3801 - accuracy: 0.8376 - val_loss: 0.3964 - val_accuracy: 0.8160\n",
      "Epoch 73/100\n",
      "313/313 [==============================] - 2s 7ms/step - loss: 0.3745 - accuracy: 0.8426 - val_loss: 0.3858 - val_accuracy: 0.8360\n",
      "Epoch 74/100\n",
      "313/313 [==============================] - 2s 7ms/step - loss: 0.3704 - accuracy: 0.8437 - val_loss: 0.3688 - val_accuracy: 0.8370\n",
      "Epoch 75/100\n",
      "313/313 [==============================] - 2s 7ms/step - loss: 0.3598 - accuracy: 0.8465 - val_loss: 0.4064 - val_accuracy: 0.8170\n",
      "Epoch 76/100\n",
      "313/313 [==============================] - 2s 7ms/step - loss: 0.3548 - accuracy: 0.8495 - val_loss: 0.3828 - val_accuracy: 0.8280\n",
      "Epoch 77/100\n",
      "313/313 [==============================] - 2s 7ms/step - loss: 0.3541 - accuracy: 0.8494 - val_loss: 0.3808 - val_accuracy: 0.8450\n",
      "Epoch 78/100\n",
      "313/313 [==============================] - 2s 7ms/step - loss: 0.3426 - accuracy: 0.8563 - val_loss: 0.3636 - val_accuracy: 0.8320\n",
      "Epoch 79/100\n",
      "313/313 [==============================] - 2s 7ms/step - loss: 0.3489 - accuracy: 0.8546 - val_loss: 0.3784 - val_accuracy: 0.8330\n",
      "Epoch 80/100\n",
      "313/313 [==============================] - 2s 7ms/step - loss: 0.3476 - accuracy: 0.8535 - val_loss: 0.3774 - val_accuracy: 0.8340\n",
      "Epoch 81/100\n",
      "313/313 [==============================] - 2s 8ms/step - loss: 0.3403 - accuracy: 0.8543 - val_loss: 0.3906 - val_accuracy: 0.8330\n",
      "Epoch 82/100\n",
      "313/313 [==============================] - 2s 7ms/step - loss: 0.3317 - accuracy: 0.8618 - val_loss: 0.3653 - val_accuracy: 0.8430\n",
      "Epoch 83/100\n",
      "313/313 [==============================] - 2s 7ms/step - loss: 0.3328 - accuracy: 0.8561 - val_loss: 0.3462 - val_accuracy: 0.8450\n",
      "Epoch 84/100\n",
      "313/313 [==============================] - 2s 7ms/step - loss: 0.3315 - accuracy: 0.8590 - val_loss: 0.3549 - val_accuracy: 0.8420\n",
      "Epoch 85/100\n",
      "313/313 [==============================] - 2s 7ms/step - loss: 0.3265 - accuracy: 0.8612 - val_loss: 0.3592 - val_accuracy: 0.8430\n",
      "Epoch 86/100\n",
      "313/313 [==============================] - 2s 7ms/step - loss: 0.3284 - accuracy: 0.8609 - val_loss: 0.3558 - val_accuracy: 0.8280\n",
      "Epoch 87/100\n",
      "313/313 [==============================] - 2s 7ms/step - loss: 0.3249 - accuracy: 0.8630 - val_loss: 0.3409 - val_accuracy: 0.8450\n",
      "Epoch 88/100\n",
      "313/313 [==============================] - 2s 7ms/step - loss: 0.3230 - accuracy: 0.8648 - val_loss: 0.3584 - val_accuracy: 0.8460\n",
      "Epoch 89/100\n",
      "313/313 [==============================] - 2s 7ms/step - loss: 0.3227 - accuracy: 0.8622 - val_loss: 0.3487 - val_accuracy: 0.8420\n",
      "Epoch 90/100\n",
      "313/313 [==============================] - 2s 7ms/step - loss: 0.3187 - accuracy: 0.8659 - val_loss: 0.3747 - val_accuracy: 0.8320\n",
      "Epoch 91/100\n",
      "313/313 [==============================] - 2s 7ms/step - loss: 0.3198 - accuracy: 0.8663 - val_loss: 0.3528 - val_accuracy: 0.8370\n",
      "Epoch 92/100\n",
      "313/313 [==============================] - 2s 7ms/step - loss: 0.3137 - accuracy: 0.8659 - val_loss: 0.3680 - val_accuracy: 0.8400\n",
      "Epoch 93/100\n",
      "313/313 [==============================] - 2s 7ms/step - loss: 0.3156 - accuracy: 0.8652 - val_loss: 0.3636 - val_accuracy: 0.8380\n",
      "Epoch 94/100\n",
      "313/313 [==============================] - 2s 7ms/step - loss: 0.3167 - accuracy: 0.8674 - val_loss: 0.3776 - val_accuracy: 0.8310\n",
      "Epoch 95/100\n",
      "313/313 [==============================] - 2s 7ms/step - loss: 0.3073 - accuracy: 0.8688 - val_loss: 0.3455 - val_accuracy: 0.8460\n",
      "Epoch 96/100\n",
      "313/313 [==============================] - 2s 7ms/step - loss: 0.3095 - accuracy: 0.8672 - val_loss: 0.3609 - val_accuracy: 0.8300\n",
      "Epoch 97/100\n",
      "313/313 [==============================] - 2s 7ms/step - loss: 0.3057 - accuracy: 0.8690 - val_loss: 0.3510 - val_accuracy: 0.8440\n",
      "Epoch 98/100\n",
      "313/313 [==============================] - 2s 7ms/step - loss: 0.3066 - accuracy: 0.8686 - val_loss: 0.3624 - val_accuracy: 0.8370\n",
      "Epoch 99/100\n",
      "313/313 [==============================] - 2s 7ms/step - loss: 0.3053 - accuracy: 0.8684 - val_loss: 0.3477 - val_accuracy: 0.8440\n",
      "Epoch 100/100\n",
      "313/313 [==============================] - 2s 7ms/step - loss: 0.3082 - accuracy: 0.8706 - val_loss: 0.3514 - val_accuracy: 0.8370\n"
     ]
    }
   ],
   "source": [
    "history = model.fit([inputs_train, queries_train], answers_train,batch_size=32,epochs=100,validation_data=([inputs_test, queries_test], answers_test))"
   ]
  },
  {
   "cell_type": "code",
   "execution_count": 46,
   "metadata": {},
   "outputs": [
    {
     "name": "stdout",
     "output_type": "stream",
     "text": [
      "dict_keys(['loss', 'accuracy', 'val_loss', 'val_accuracy'])\n"
     ]
    },
    {
     "data": {
      "image/png": "[encoded data removed]",
      "text/plain": [
       "<Figure size 640x480 with 1 Axes>"
      ]
     },
     "metadata": {},
     "output_type": "display_data"
    }
   ],
   "source": [
    "import matplotlib.pyplot as plt\n",
    "%matplotlib inline\n",
    "print(history.history.keys())\n",
    "\n",
    "plt.plot(history.history['accuracy'])\n",
    "plt.plot(history.history['val_accuracy'])\n",
    "plt.title('model accuracy')\n",
    "plt.ylabel('accuracy')\n",
    "plt.xlabel('epoch')\n",
    "plt.legend(['train', 'test'], loc='upper left')\n",
    "plt.show()"
   ]
  },
  {
   "cell_type": "code",
   "execution_count": 47,
   "metadata": {},
   "outputs": [
    {
     "name": "stderr",
     "output_type": "stream",
     "text": [
      "c:\\Users\\Sangharsh\\AppData\\Local\\Programs\\Python\\Python311\\Lib\\site-packages\\keras\\src\\engine\\training.py:3000: UserWarning: You are saving your model as an HDF5 file via `model.save()`. This file format is considered legacy. We recommend using instead the native Keras format, e.g. `model.save('my_model.keras')`.\n",
      "  saving_api.save_model(\n"
     ]
    }
   ],
   "source": [
    "model.save('mymodel.h5')"
   ]
  },
  {
   "cell_type": "code",
   "execution_count": 48,
   "metadata": {},
   "outputs": [
    {
     "name": "stdout",
     "output_type": "stream",
     "text": [
      "32/32 [==============================] - 1s 3ms/step\n"
     ]
    }
   ],
   "source": [
    "pred_results = model.predict(([inputs_test,queries_test]))"
   ]
  },
  {
   "cell_type": "code",
   "execution_count": 50,
   "metadata": {},
   "outputs": [
    {
     "data": {
      "text/plain": [
       "['Mary',\n",
       " 'got',\n",
       " 'the',\n",
       " 'milk',\n",
       " 'there',\n",
       " '.',\n",
       " 'John',\n",
       " 'moved',\n",
       " 'to',\n",
       " 'the',\n",
       " 'bedroom',\n",
       " '.']"
      ]
     },
     "execution_count": 50,
     "metadata": {},
     "output_type": "execute_result"
    }
   ],
   "source": [
    "test_data[0][0]"
   ]
  },
  {
   "cell_type": "code",
   "execution_count": 51,
   "metadata": {},
   "outputs": [
    {
     "data": {
      "text/plain": [
       "array([[1.0849386e-06, 1.6861602e-03, 1.0343123e-06, ..., 1.2463154e-06,\n",
       "        1.2054523e-06, 6.9493046e-07],\n",
       "       [3.9256678e-09, 8.6482975e-04, 3.6856647e-09, ..., 4.9406266e-09,\n",
       "        4.8693574e-09, 3.1549401e-09],\n",
       "       [7.1583006e-09, 8.6515236e-01, 9.1263663e-09, ..., 8.4042684e-09,\n",
       "        7.3584623e-09, 7.7914244e-09],\n",
       "       ...,\n",
       "       [6.0117543e-08, 9.6762972e-04, 5.2731419e-08, ..., 6.9570568e-08,\n",
       "        6.4947663e-08, 4.5337831e-08],\n",
       "       [6.5169765e-08, 9.2864931e-01, 8.9974669e-08, ..., 7.9106087e-08,\n",
       "        6.0699271e-08, 7.3890554e-08],\n",
       "       [7.8088327e-08, 9.5261526e-01, 1.0838698e-07, ..., 9.7180070e-08,\n",
       "        7.6834425e-08, 8.8765248e-08]], dtype=float32)"
      ]
     },
     "execution_count": 51,
     "metadata": {},
     "output_type": "execute_result"
    }
   ],
   "source": [
    "pred_results"
   ]
  },
  {
   "cell_type": "code",
   "execution_count": 52,
   "metadata": {},
   "outputs": [],
   "source": [
    "val_max = np.argmax(pred_results[0])"
   ]
  },
  {
   "cell_type": "code",
   "execution_count": 53,
   "metadata": {},
   "outputs": [],
   "source": [
    "for key,val in tokenizer.word_index.items():\n",
    "    if val == val_max:\n",
    "        k = key"
   ]
  },
  {
   "cell_type": "code",
   "execution_count": 54,
   "metadata": {},
   "outputs": [
    {
     "data": {
      "text/plain": [
       "'no'"
      ]
     },
     "execution_count": 54,
     "metadata": {},
     "output_type": "execute_result"
    }
   ],
   "source": [
    "k"
   ]
  },
  {
   "cell_type": "code",
   "execution_count": 55,
   "metadata": {},
   "outputs": [
    {
     "data": {
      "text/plain": [
       "0.9982741"
      ]
     },
     "execution_count": 55,
     "metadata": {},
     "output_type": "execute_result"
    }
   ],
   "source": [
    "pred_results[0][val_max]"
   ]
  },
  {
   "cell_type": "code",
   "execution_count": 56,
   "metadata": {},
   "outputs": [
    {
     "data": {
      "text/plain": [
       "{'.',\n",
       " '?',\n",
       " 'Daniel',\n",
       " 'Is',\n",
       " 'John',\n",
       " 'Mary',\n",
       " 'Sandra',\n",
       " 'apple',\n",
       " 'back',\n",
       " 'bathroom',\n",
       " 'bedroom',\n",
       " 'discarded',\n",
       " 'down',\n",
       " 'dropped',\n",
       " 'football',\n",
       " 'garden',\n",
       " 'got',\n",
       " 'grabbed',\n",
       " 'hallway',\n",
       " 'in',\n",
       " 'journeyed',\n",
       " 'kitchen',\n",
       " 'left',\n",
       " 'milk',\n",
       " 'moved',\n",
       " 'no',\n",
       " 'office',\n",
       " 'picked',\n",
       " 'put',\n",
       " 'the',\n",
       " 'there',\n",
       " 'to',\n",
       " 'took',\n",
       " 'travelled',\n",
       " 'up',\n",
       " 'went',\n",
       " 'yes'}"
      ]
     },
     "execution_count": 56,
     "metadata": {},
     "output_type": "execute_result"
    }
   ],
   "source": [
    "vocab"
   ]
  },
  {
   "cell_type": "code",
   "execution_count": 57,
   "metadata": {},
   "outputs": [],
   "source": [
    "story = \"John left the kitchen . Sandra dropped the football in the garden .\""
   ]
  },
  {
   "cell_type": "code",
   "execution_count": 58,
   "metadata": {},
   "outputs": [
    {
     "data": {
      "text/plain": [
       "['John',\n",
       " 'left',\n",
       " 'the',\n",
       " 'kitchen',\n",
       " '.',\n",
       " 'Sandra',\n",
       " 'dropped',\n",
       " 'the',\n",
       " 'football',\n",
       " 'in',\n",
       " 'the',\n",
       " 'garden',\n",
       " '.']"
      ]
     },
     "execution_count": 58,
     "metadata": {},
     "output_type": "execute_result"
    }
   ],
   "source": [
    "story.split()"
   ]
  },
  {
   "cell_type": "code",
   "execution_count": 59,
   "metadata": {},
   "outputs": [],
   "source": [
    "my_que = \"Is the football in the garden ?\""
   ]
  },
  {
   "cell_type": "code",
   "execution_count": 60,
   "metadata": {},
   "outputs": [
    {
     "data": {
      "text/plain": [
       "['Is', 'the', 'football', 'in', 'the', 'garden', '?']"
      ]
     },
     "execution_count": 60,
     "metadata": {},
     "output_type": "execute_result"
    }
   ],
   "source": [
    "my_que.split()"
   ]
  },
  {
   "cell_type": "code",
   "execution_count": 63,
   "metadata": {},
   "outputs": [],
   "source": [
    "mydata = [(story.split(),my_que.split(),'yes')]"
   ]
  },
  {
   "cell_type": "code",
   "execution_count": 64,
   "metadata": {},
   "outputs": [],
   "source": [
    "story,my_que,my_ans = vectorize_stories(mydata)"
   ]
  },
  {
   "cell_type": "code",
   "execution_count": 65,
   "metadata": {},
   "outputs": [
    {
     "name": "stdout",
     "output_type": "stream",
     "text": [
      "1/1 [==============================] - 0s 20ms/step\n"
     ]
    }
   ],
   "source": [
    "pred_results = model.predict(([story,my_que]))"
   ]
  },
  {
   "cell_type": "code",
   "execution_count": 66,
   "metadata": {},
   "outputs": [],
   "source": [
    "val_max = np.argmax(pred_results[0])"
   ]
  },
  {
   "cell_type": "code",
   "execution_count": 67,
   "metadata": {},
   "outputs": [],
   "source": [
    "for key,val in tokenizer.word_index.items():\n",
    "    if val == val_max:\n",
    "        k = key"
   ]
  },
  {
   "cell_type": "code",
   "execution_count": 68,
   "metadata": {},
   "outputs": [
    {
     "data": {
      "text/plain": [
       "'yes'"
      ]
     },
     "execution_count": 68,
     "metadata": {},
     "output_type": "execute_result"
    }
   ],
   "source": [
    "k"
   ]
  }
 ],
 "metadata": {
  "kernelspec": {
   "display_name": "Python 3",
   "language": "python",
   "name": "python3"
  },
  "language_info": {
   "codemirror_mode": {
    "name": "ipython",
    "version": 3
   },
   "file_extension": ".py",
   "mimetype": "text/x-python",
   "name": "python",
   "nbconvert_exporter": "python",
   "pygments_lexer": "ipython3",
   "version": "3.11.5"
  }
 },
 "nbformat": 4,
 "nbformat_minor": 2
}
